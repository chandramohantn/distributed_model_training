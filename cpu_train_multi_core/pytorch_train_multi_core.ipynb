{
  "cells": [
    {
      "cell_type": "code",
      "execution_count": 3,
      "metadata": {
        "id": "pWEuB4egjatd"
      },
      "outputs": [],
      "source": [
        "import torch\n",
        "import torchvision\n",
        "import torchvision.transforms as transforms"
      ]
    },
    {
      "cell_type": "code",
      "execution_count": 4,
      "metadata": {
        "id": "gO6HCKfHjiAP"
      },
      "outputs": [],
      "source": [
        "from torch.utils.tensorboard import SummaryWriter\n",
        "from datetime import datetime"
      ]
    },
    {
      "cell_type": "code",
      "execution_count": null,
      "metadata": {
        "id": "kvSCnyxbjiCu"
      },
      "outputs": [],
      "source": []
    },
    {
      "cell_type": "code",
      "execution_count": 5,
      "metadata": {
        "colab": {
          "base_uri": "https://localhost:8080/"
        },
        "id": "Nn_PkRIm38Jw",
        "outputId": "c1904113-8755-4500-fdf4-b5c7b3874913"
      },
      "outputs": [
        {
          "name": "stdout",
          "output_type": "stream",
          "text": [
            "10\n",
            "10\n"
          ]
        }
      ],
      "source": [
        "from os import cpu_count\n",
        "import multiprocessing as mp\n",
        "print(mp.cpu_count())\n",
        "\n",
        "import psutil\n",
        "print(psutil.cpu_count(logical=False))"
      ]
    },
    {
      "cell_type": "code",
      "execution_count": 6,
      "metadata": {
        "id": "Ea4Lr_8GjiFU"
      },
      "outputs": [],
      "source": [
        "transform = transforms.Compose(\n",
        "    [transforms.ToTensor(),\n",
        "     transforms.Normalize((0.5), (0.5))]\n",
        ")"
      ]
    },
    {
      "cell_type": "code",
      "execution_count": 7,
      "metadata": {
        "colab": {
          "base_uri": "https://localhost:8080/"
        },
        "id": "ax02X5UGjiH7",
        "outputId": "265850c2-722a-47bf-bacc-f715cb94f8ab"
      },
      "outputs": [],
      "source": [
        "training_set = torchvision.datasets.FashionMNIST(\n",
        "    './fashion_mnist_data/', train=True, transform=transform, download=True\n",
        ")\n",
        "validation_set = torchvision.datasets.FashionMNIST(\n",
        "    './fashion_mnist_data/', train=False, transform=transform, download=True\n",
        ")"
      ]
    },
    {
      "cell_type": "code",
      "execution_count": 8,
      "metadata": {
        "id": "QdgygyoTjiKi"
      },
      "outputs": [],
      "source": [
        "training_loader = torch.utils.data.DataLoader(\n",
        "    training_set, batch_size=4, shuffle=True\n",
        ")\n",
        "validation_loader = torch.utils.data.DataLoader(\n",
        "    validation_set, batch_size=4, shuffle=True\n",
        ")"
      ]
    },
    {
      "cell_type": "code",
      "execution_count": 9,
      "metadata": {
        "id": "qFHbWuV2jiM4"
      },
      "outputs": [],
      "source": [
        "classes = (\n",
        "    'T-shirt/top', 'Trouser', 'Pullover', 'Dress', 'Coat', 'Sandal', 'Shirt', 'Sneaker', 'Bag', 'Ankle Boot'\n",
        ")"
      ]
    },
    {
      "cell_type": "code",
      "execution_count": 10,
      "metadata": {
        "colab": {
          "base_uri": "https://localhost:8080/"
        },
        "id": "CDZw--Itu0O6",
        "outputId": "e0d61968-43fd-4c32-89ad-f8c3c534034e"
      },
      "outputs": [
        {
          "name": "stdout",
          "output_type": "stream",
          "text": [
            "Training set has 60000 records\n",
            "Validation set has 10000 records\n"
          ]
        }
      ],
      "source": [
        "print(f\"Training set has {len(training_set)} records\")\n",
        "print(f\"Validation set has {len(validation_set)} records\")"
      ]
    },
    {
      "cell_type": "code",
      "execution_count": null,
      "metadata": {
        "id": "jQT0yrbMu0Rf"
      },
      "outputs": [],
      "source": []
    },
    {
      "cell_type": "code",
      "execution_count": 11,
      "metadata": {
        "id": "taiuBIo-u0T1"
      },
      "outputs": [
        {
          "name": "stderr",
          "output_type": "stream",
          "text": [
            "Matplotlib is building the font cache; this may take a moment.\n"
          ]
        }
      ],
      "source": [
        "import numpy as np\n",
        "import matplotlib.pyplot as plt"
      ]
    },
    {
      "cell_type": "code",
      "execution_count": 12,
      "metadata": {
        "colab": {
          "base_uri": "https://localhost:8080/",
          "height": 212
        },
        "id": "n8odeZxDu6RX",
        "outputId": "4abb9160-2f68-4d23-b9a1-90508a2d58ec"
      },
      "outputs": [
        {
          "name": "stdout",
          "output_type": "stream",
          "text": [
            "Bag Ankle Boot Shirt Coat\n"
          ]
        },
        {
          "data": {
            "image/png": "[encoded data removed]",
            "text/plain": [
              "<Figure size 640x480 with 1 Axes>"
            ]
          },
          "metadata": {},
          "output_type": "display_data"
        }
      ],
      "source": [
        "def matplotlib_imshow(img, one_channel=False):\n",
        "    \"\"\"\n",
        "    Helper function for inline image display\n",
        "    \"\"\"\n",
        "    if one_channel:\n",
        "        img = img.mean(dim=0)\n",
        "    img = img / 2 + 0.5\n",
        "    npimg = img.numpy()\n",
        "    if one_channel:\n",
        "        plt.imshow(npimg, cmap=\"Greys\")\n",
        "    else:\n",
        "        plt.imshow(np.transpose(npimg, (1, 2, 0)))\n",
        "\n",
        "dataiter = iter(training_loader)\n",
        "images, labels = next(dataiter)\n",
        "\n",
        "# Create a grid from the images and show them\n",
        "img_grid = torchvision.utils.make_grid(images)\n",
        "matplotlib_imshow(img_grid, one_channel=True)\n",
        "print(' '.join(classes[labels[j]] for j in range(4)))"
      ]
    },
    {
      "cell_type": "code",
      "execution_count": null,
      "metadata": {
        "id": "zAM8mwsiu6Tr"
      },
      "outputs": [],
      "source": []
    },
    {
      "cell_type": "code",
      "execution_count": 13,
      "metadata": {
        "id": "MI-Ke5XwxoaX"
      },
      "outputs": [],
      "source": [
        "import torch.nn as nn\n",
        "import torch.nn.functional as F"
      ]
    },
    {
      "cell_type": "code",
      "execution_count": 14,
      "metadata": {
        "id": "DY2jwDCLu6WS"
      },
      "outputs": [],
      "source": [
        "class GarmentClassifier(nn.Module):\n",
        "    def __init__(self):\n",
        "        super(GarmentClassifier, self).__init__()\n",
        "        self.conv1 = nn.Conv2d(1, 6, 5)\n",
        "        self.pool = nn.MaxPool2d(2, 2)\n",
        "        self.conv2 = nn.Conv2d(6, 16, 5)\n",
        "        self.fc1 = nn.Linear(16 * 4 * 4, 120)\n",
        "        self.fc2 = nn.Linear(120, 84)\n",
        "        self.fc3 = nn.Linear(84, 10)\n",
        "\n",
        "    def forward(self, x):\n",
        "        x = self.pool(F.relu(self.conv1(x)))\n",
        "        x = self.pool(F.relu(self.conv2(x)))\n",
        "        x = x.view(-1, 16 * 4 * 4)\n",
        "        x = F.relu(self.fc1(x))\n",
        "        x = F.relu(self.fc2(x))\n",
        "        x = self.fc3(x)\n",
        "        return x"
      ]
    },
    {
      "cell_type": "code",
      "execution_count": 15,
      "metadata": {
        "id": "0jsIGt9eu6Yq"
      },
      "outputs": [],
      "source": [
        "model = GarmentClassifier()"
      ]
    },
    {
      "cell_type": "code",
      "execution_count": 16,
      "metadata": {
        "id": "_FW-tyPmu6bg"
      },
      "outputs": [
        {
          "name": "stdout",
          "output_type": "stream",
          "text": [
            "Total loss for this batch: 2.3695340156555176\n"
          ]
        }
      ],
      "source": [
        "loss_fn = torch.nn.CrossEntropyLoss()\n",
        "dummy_outputs = torch.rand(4, 10)\n",
        "dummy_labels = torch.tensor([1, 5, 3, 7])\n",
        "\n",
        "loss = loss_fn(dummy_outputs, dummy_labels)\n",
        "print(f\"Total loss for this batch: {loss.item()}\")"
      ]
    },
    {
      "cell_type": "code",
      "execution_count": 17,
      "metadata": {
        "id": "8_j373Eu1B4k"
      },
      "outputs": [],
      "source": [
        "optimizer = torch.optim.SGD(\n",
        "    model.parameters(), lr=0.001, momentum=0.9\n",
        ")"
      ]
    },
    {
      "cell_type": "code",
      "execution_count": 18,
      "metadata": {
        "id": "0sdemnCd1B7E"
      },
      "outputs": [],
      "source": [
        "def train_one_epoch(epoch_index, tb_writer):\n",
        "    running_loss = 0\n",
        "    last_loss = 0\n",
        "\n",
        "    for index, data in enumerate(training_loader):\n",
        "        inputs, labels = data\n",
        "        optimizer.zero_grad()\n",
        "        outputs = model(inputs)\n",
        "        loss = loss_fn(outputs, labels)\n",
        "        loss.backward()\n",
        "        optimizer.step()\n",
        "        running_loss += loss\n",
        "\n",
        "        if index % 1000 == 999:\n",
        "            last_loss = running_loss / 1000\n",
        "            print(f\"Batch-{index+1} loss: {last_loss}\")\n",
        "            tb_x = epoch_index * len(training_loader) + index + 1\n",
        "            tb_writer.add_scalar('Loss/train', last_loss, tb_x)\n",
        "            running_loss = 0\n",
        "\n",
        "    return last_loss"
      ]
    },
    {
      "cell_type": "code",
      "execution_count": 19,
      "metadata": {
        "id": "2X6eTODO3bc2"
      },
      "outputs": [
        {
          "name": "stdout",
          "output_type": "stream",
          "text": [
            "EPOCH 1\n",
            "Batch-1000 loss: 1.579756259918213\n",
            "Batch-2000 loss: 0.830723762512207\n",
            "Batch-3000 loss: 0.71454918384552\n",
            "Batch-4000 loss: 0.6659244298934937\n",
            "Batch-5000 loss: 0.6089029908180237\n",
            "Batch-6000 loss: 0.5587291717529297\n",
            "Batch-7000 loss: 0.5373756289482117\n",
            "Batch-8000 loss: 0.48237931728363037\n",
            "Batch-9000 loss: 0.47630810737609863\n",
            "Batch-10000 loss: 0.4507363438606262\n",
            "Batch-11000 loss: 0.4684612452983856\n",
            "Batch-12000 loss: 0.45937544107437134\n",
            "Batch-13000 loss: 0.4359118640422821\n",
            "Batch-14000 loss: 0.4477478265762329\n",
            "Batch-15000 loss: 0.41084569692611694\n",
            "Loss train: 0.41084569692611694 valid: 0.4787847101688385\n",
            "EPOCH 2\n",
            "Batch-1000 loss: 0.41752299666404724\n",
            "Batch-2000 loss: 0.4079087972640991\n",
            "Batch-3000 loss: 0.3982095718383789\n",
            "Batch-4000 loss: 0.3855656385421753\n",
            "Batch-5000 loss: 0.3927559554576874\n",
            "Batch-6000 loss: 0.40198543667793274\n",
            "Batch-7000 loss: 0.3834165334701538\n",
            "Batch-8000 loss: 0.37857988476753235\n",
            "Batch-9000 loss: 0.3717985451221466\n",
            "Batch-10000 loss: 0.35839027166366577\n",
            "Batch-11000 loss: 0.3581899106502533\n",
            "Batch-12000 loss: 0.3580535054206848\n",
            "Batch-13000 loss: 0.3498747646808624\n",
            "Batch-14000 loss: 0.3443562984466553\n",
            "Batch-15000 loss: 0.3515765070915222\n",
            "Loss train: 0.3515765070915222 valid: 0.373024046421051\n",
            "EPOCH 3\n",
            "Batch-1000 loss: 0.32260945439338684\n",
            "Batch-2000 loss: 0.3503531217575073\n",
            "Batch-3000 loss: 0.3385675549507141\n",
            "Batch-4000 loss: 0.3417328894138336\n",
            "Batch-5000 loss: 0.3267861008644104\n",
            "Batch-6000 loss: 0.3350367844104767\n",
            "Batch-7000 loss: 0.31859228014945984\n",
            "Batch-8000 loss: 0.3247806429862976\n",
            "Batch-9000 loss: 0.33771607279777527\n",
            "Batch-10000 loss: 0.3217763602733612\n",
            "Batch-11000 loss: 0.3213134706020355\n",
            "Batch-12000 loss: 0.3285347521305084\n",
            "Batch-13000 loss: 0.33260083198547363\n",
            "Batch-14000 loss: 0.3058624267578125\n",
            "Batch-15000 loss: 0.306896448135376\n",
            "Loss train: 0.306896448135376 valid: 0.35419127345085144\n",
            "EPOCH 4\n",
            "Batch-1000 loss: 0.2919461131095886\n",
            "Batch-2000 loss: 0.29623356461524963\n",
            "Batch-3000 loss: 0.3003247082233429\n",
            "Batch-4000 loss: 0.3137153685092926\n",
            "Batch-5000 loss: 0.2906966805458069\n",
            "Batch-6000 loss: 0.30925828218460083\n",
            "Batch-7000 loss: 0.286865770816803\n",
            "Batch-8000 loss: 0.2981352210044861\n",
            "Batch-9000 loss: 0.3005928695201874\n",
            "Batch-10000 loss: 0.30249035358428955\n",
            "Batch-11000 loss: 0.3060811161994934\n",
            "Batch-12000 loss: 0.30054473876953125\n",
            "Batch-13000 loss: 0.3021849989891052\n",
            "Batch-14000 loss: 0.3111701011657715\n",
            "Batch-15000 loss: 0.3047389090061188\n",
            "Loss train: 0.3047389090061188 valid: 0.3071305751800537\n",
            "EPOCH 5\n",
            "Batch-1000 loss: 0.27196168899536133\n",
            "Batch-2000 loss: 0.29222753643989563\n",
            "Batch-3000 loss: 0.2750932276248932\n",
            "Batch-4000 loss: 0.2892386317253113\n",
            "Batch-5000 loss: 0.2854726016521454\n",
            "Batch-6000 loss: 0.2899380028247833\n",
            "Batch-7000 loss: 0.2825048267841339\n",
            "Batch-8000 loss: 0.27753469347953796\n",
            "Batch-9000 loss: 0.26646649837493896\n",
            "Batch-10000 loss: 0.2998086214065552\n",
            "Batch-11000 loss: 0.2814934253692627\n",
            "Batch-12000 loss: 0.28627726435661316\n",
            "Batch-13000 loss: 0.2904667854309082\n",
            "Batch-14000 loss: 0.26983457803726196\n",
            "Batch-15000 loss: 0.28102847933769226\n",
            "Loss train: 0.28102847933769226 valid: 0.30791720747947693\n"
          ]
        }
      ],
      "source": [
        "timestamp = datetime.now().strftime('%Y%m%d_%H%M%S')\n",
        "writer = SummaryWriter(f\"runs/fashion_trainer_{timestamp}\")\n",
        "EPOCHS = 5\n",
        "best_vloss = 1_000_000\n",
        "\n",
        "for epoch in range(1, EPOCHS+1):\n",
        "    print(f\"EPOCH {epoch}\")\n",
        "    model.train(True)\n",
        "    avg_loss = train_one_epoch(epoch, writer)\n",
        "    running_vloss = 0.0\n",
        "    model.eval()\n",
        "\n",
        "    with torch.no_grad():\n",
        "        for index, vdata in enumerate(validation_loader):\n",
        "            vinputs, vlabels = vdata\n",
        "            voutputs = model(vinputs)\n",
        "            vloss = loss_fn(voutputs, vlabels)\n",
        "            running_vloss += vloss\n",
        "\n",
        "    avg_vloss = running_vloss / (index + 1)\n",
        "    print(f\"Loss train: {avg_loss} valid: {avg_vloss}\")\n",
        "    writer.add_scalars(\n",
        "        'Training vs. Validation Loss',\n",
        "        {'Training': avg_loss, 'Validation': avg_vloss},\n",
        "        epoch\n",
        "    )\n",
        "    writer.flush()\n",
        "\n",
        "    if avg_vloss < best_vloss:\n",
        "        best_vloss = avg_vloss\n",
        "        model_path = f\"models/model_{timestamp}_{epoch}\"\n",
        "        torch.save(model.state_dict(), model_path)"
      ]
    },
    {
      "cell_type": "code",
      "execution_count": null,
      "metadata": {
        "id": "nJz-Yc0-3bfK"
      },
      "outputs": [],
      "source": []
    },
    {
      "cell_type": "code",
      "execution_count": null,
      "metadata": {
        "id": "Oo1kA-0O1B9d"
      },
      "outputs": [],
      "source": []
    }
  ],
  "metadata": {
    "colab": {
      "provenance": []
    },
    "kernelspec": {
      "display_name": "ml_env",
      "language": "python",
      "name": "python3"
    },
    "language_info": {
      "codemirror_mode": {
        "name": "ipython",
        "version": 3
      },
      "file_extension": ".py",
      "mimetype": "text/x-python",
      "name": "python",
      "nbconvert_exporter": "python",
      "pygments_lexer": "ipython3",
      "version": "3.13.2"
    }
  },
  "nbformat": 4,
  "nbformat_minor": 0
}
